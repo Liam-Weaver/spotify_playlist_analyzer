import matplotlib.pyplot as plt
Popularity = Song_data['popularity']
Energy = Song_data[‘energy’]

plt.scatter(Popularity,Energy)
plt.show()

import matplotlib.pyplot as plt
import numpy as np

Popularity_array = np.array(Popularity)

plt.pie(Popularity_array)
plt.show() 

import matplotlib.pyplot as plt

Values_thousand_songs = ten_thousand_songs['description'].style
Values_thousand_songs

Popularity_Column =  np.array(Values_thousand_songs[‘popularity'])

Std = Popularity_Column[2]
Mean = Popularity_Column[1]

plt.plot(Popularity,Std)
plt.xlim(-3,3)

import numpy as np

Z_score = (50-Mean)/Std

from scipy import stats
stats.zscore(Z_score)

Song_data = top_50_global['song_data']
Song_data

Song_data
import matplotlib.pyplot as plt
plt.hist(Song_data['popularity'])
plt.show()

Song_data
import matplotlib.pyplot as plt
plt.hist(Song_data['danceability'])
plt.show()

Song_data
import matplotlib.pyplot as plt
plt.hist(Song_data['energy'])
plt.show()

import pandas as pd
Song_data.head()

import matplotlib.pyplot as plt
import numpy as np

Song_data

plt.pie(Song_data['mode'])
plt.show()

import numpy as np
import matplotlib.pyplot as plt
plt.hist(Song_data['danceability'])
plt.show()



